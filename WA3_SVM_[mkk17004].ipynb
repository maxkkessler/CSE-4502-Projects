{
  "nbformat": 4,
  "nbformat_minor": 0,
  "metadata": {
    "colab": {
      "name": "WA3_SVM_[mkk17004].ipynb",
      "provenance": [],
      "collapsed_sections": [],
      "include_colab_link": true
    },
    "kernelspec": {
      "display_name": "Python 3",
      "name": "python3"
    },
    "language_info": {
      "name": "python"
    }
  },
  "cells": [
    {
      "cell_type": "markdown",
      "metadata": {
        "id": "view-in-github",
        "colab_type": "text"
      },
      "source": [
        "<a href=\"https://colab.research.google.com/github/maxkkessler/CSE-4502-Projects/blob/main/WA3_SVM_%5Bmkk17004%5D.ipynb\" target=\"_parent\"><img src=\"https://colab.research.google.com/assets/colab-badge.svg\" alt=\"Open In Colab\"/></a>"
      ]
    },
    {
      "cell_type": "markdown",
      "metadata": {
        "id": "SMRu7Awzgex8"
      },
      "source": [
        "Starter code for SVM assignment."
      ]
    },
    {
      "cell_type": "code",
      "metadata": {
        "id": "Yli1d1ltgSKf",
        "colab": {
          "resources": {
            "http://localhost:8080/nbextensions/google.colab/files.js": {
              "data": "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",
              "ok": true,
              "headers": [
                [
                  "content-type",
                  "application/javascript"
                ]
              ],
              "status": 200,
              "status_text": ""
            }
          },
          "base_uri": "https://localhost:8080/",
          "height": 106
        },
        "outputId": "bd17afa8-bc24-4285-bb61-bd4725d03006"
      },
      "source": [
        "# Load the libaries dataset\n",
        "# When you load the datasets, please select both training and testing files at \"Choose Files\" and click \"Open\"\n",
        "# You could add other necessary libraries here\n",
        "import pandas as pd\n",
        "import numpy as np\n",
        "from google.colab import files\n",
        "\n",
        "import matplotlib.pyplot as plt\n",
        "\n",
        "from sklearn import preprocessing\n",
        "from sklearn.preprocessing import StandardScaler, MinMaxScaler\n",
        "\n",
        "from sklearn.svm import SVC\n",
        "from sklearn.decomposition import PCA\n",
        "\n",
        "from sklearn.metrics import accuracy_score, precision_score, recall_score, f1_score,  classification_report\n",
        "# If you would like to delete the files uploaded, go to Runtime --> Factory reset runtime\n",
        "uploaded = files.upload()"
      ],
      "execution_count": null,
      "outputs": [
        {
          "output_type": "display_data",
          "data": {
            "text/html": [
              "\n",
              "     <input type=\"file\" id=\"files-24c25136-d4ee-44d5-82da-7aa01e71a49e\" name=\"files[]\" multiple disabled\n",
              "        style=\"border:none\" />\n",
              "     <output id=\"result-24c25136-d4ee-44d5-82da-7aa01e71a49e\">\n",
              "      Upload widget is only available when the cell has been executed in the\n",
              "      current browser session. Please rerun this cell to enable.\n",
              "      </output>\n",
              "      <script src=\"/nbextensions/google.colab/files.js\"></script> "
            ],
            "text/plain": [
              "<IPython.core.display.HTML object>"
            ]
          },
          "metadata": {
            "tags": []
          }
        },
        {
          "output_type": "stream",
          "text": [
            "Saving validation_data_new_7dim.csv to validation_data_new_7dim.csv\n",
            "Saving training_data_new_7dim.csv to training_data_new_7dim.csv\n"
          ],
          "name": "stdout"
        }
      ]
    },
    {
      "cell_type": "code",
      "metadata": {
        "id": "qZVboAvog_9N"
      },
      "source": [
        "# Read the corresponding csv files\n",
        "train_set = pd.read_csv(\"training_data_new_7dim.csv\") \n",
        "valid_set = pd.read_csv(\"validation_data_new_7dim.csv\") \n",
        "\n",
        "# You can try standard scaler instead if you want\n",
        "min_max_scaler = preprocessing.MinMaxScaler()\n",
        "train_set = min_max_scaler.fit_transform(train_set)\n",
        "valid_set = min_max_scaler.fit_transform(valid_set)\n",
        "train_set = pd.DataFrame(train_set)\n",
        "valid_set = pd.DataFrame(valid_set)"
      ],
      "execution_count": null,
      "outputs": []
    },
    {
      "cell_type": "code",
      "metadata": {
        "id": "C6tWgYz6hJEh",
        "colab": {
          "base_uri": "https://localhost:8080/",
          "height": 405
        },
        "outputId": "a35c7fab-368c-4922-887f-44800d29ecbd"
      },
      "source": [
        "# Preview the processed training data\n",
        "train_set"
      ],
      "execution_count": null,
      "outputs": [
        {
          "output_type": "execute_result",
          "data": {
            "text/html": [
              "<div>\n",
              "<style scoped>\n",
              "    .dataframe tbody tr th:only-of-type {\n",
              "        vertical-align: middle;\n",
              "    }\n",
              "\n",
              "    .dataframe tbody tr th {\n",
              "        vertical-align: top;\n",
              "    }\n",
              "\n",
              "    .dataframe thead th {\n",
              "        text-align: right;\n",
              "    }\n",
              "</style>\n",
              "<table border=\"1\" class=\"dataframe\">\n",
              "  <thead>\n",
              "    <tr style=\"text-align: right;\">\n",
              "      <th></th>\n",
              "      <th>0</th>\n",
              "      <th>1</th>\n",
              "      <th>2</th>\n",
              "      <th>3</th>\n",
              "      <th>4</th>\n",
              "      <th>5</th>\n",
              "      <th>6</th>\n",
              "      <th>7</th>\n",
              "    </tr>\n",
              "  </thead>\n",
              "  <tbody>\n",
              "    <tr>\n",
              "      <th>0</th>\n",
              "      <td>0.156250</td>\n",
              "      <td>0.666667</td>\n",
              "      <td>0.416667</td>\n",
              "      <td>0.153846</td>\n",
              "      <td>0.545455</td>\n",
              "      <td>0.416667</td>\n",
              "      <td>0.419355</td>\n",
              "      <td>1.0</td>\n",
              "    </tr>\n",
              "    <tr>\n",
              "      <th>1</th>\n",
              "      <td>0.093750</td>\n",
              "      <td>0.629630</td>\n",
              "      <td>0.416667</td>\n",
              "      <td>0.169231</td>\n",
              "      <td>0.545455</td>\n",
              "      <td>0.333333</td>\n",
              "      <td>0.290323</td>\n",
              "      <td>1.0</td>\n",
              "    </tr>\n",
              "    <tr>\n",
              "      <th>2</th>\n",
              "      <td>0.171875</td>\n",
              "      <td>0.518519</td>\n",
              "      <td>0.458333</td>\n",
              "      <td>0.138462</td>\n",
              "      <td>0.393939</td>\n",
              "      <td>0.333333</td>\n",
              "      <td>0.322581</td>\n",
              "      <td>1.0</td>\n",
              "    </tr>\n",
              "    <tr>\n",
              "      <th>3</th>\n",
              "      <td>0.203125</td>\n",
              "      <td>0.518519</td>\n",
              "      <td>0.125000</td>\n",
              "      <td>0.215385</td>\n",
              "      <td>0.363636</td>\n",
              "      <td>0.194444</td>\n",
              "      <td>0.451613</td>\n",
              "      <td>1.0</td>\n",
              "    </tr>\n",
              "    <tr>\n",
              "      <th>4</th>\n",
              "      <td>0.171875</td>\n",
              "      <td>0.333333</td>\n",
              "      <td>0.458333</td>\n",
              "      <td>0.200000</td>\n",
              "      <td>0.363636</td>\n",
              "      <td>0.444444</td>\n",
              "      <td>0.225806</td>\n",
              "      <td>1.0</td>\n",
              "    </tr>\n",
              "    <tr>\n",
              "      <th>...</th>\n",
              "      <td>...</td>\n",
              "      <td>...</td>\n",
              "      <td>...</td>\n",
              "      <td>...</td>\n",
              "      <td>...</td>\n",
              "      <td>...</td>\n",
              "      <td>...</td>\n",
              "      <td>...</td>\n",
              "    </tr>\n",
              "    <tr>\n",
              "      <th>795</th>\n",
              "      <td>0.531250</td>\n",
              "      <td>0.666667</td>\n",
              "      <td>0.750000</td>\n",
              "      <td>0.492308</td>\n",
              "      <td>0.606061</td>\n",
              "      <td>0.555556</td>\n",
              "      <td>0.483871</td>\n",
              "      <td>0.0</td>\n",
              "    </tr>\n",
              "    <tr>\n",
              "      <th>796</th>\n",
              "      <td>0.546875</td>\n",
              "      <td>0.592593</td>\n",
              "      <td>0.708333</td>\n",
              "      <td>0.569231</td>\n",
              "      <td>0.818182</td>\n",
              "      <td>0.722222</td>\n",
              "      <td>0.548387</td>\n",
              "      <td>0.0</td>\n",
              "    </tr>\n",
              "    <tr>\n",
              "      <th>797</th>\n",
              "      <td>0.578125</td>\n",
              "      <td>0.740741</td>\n",
              "      <td>0.708333</td>\n",
              "      <td>0.538462</td>\n",
              "      <td>0.757576</td>\n",
              "      <td>0.694444</td>\n",
              "      <td>0.516129</td>\n",
              "      <td>0.0</td>\n",
              "    </tr>\n",
              "    <tr>\n",
              "      <th>798</th>\n",
              "      <td>0.546875</td>\n",
              "      <td>0.814815</td>\n",
              "      <td>0.875000</td>\n",
              "      <td>0.569231</td>\n",
              "      <td>0.848485</td>\n",
              "      <td>0.611111</td>\n",
              "      <td>0.741935</td>\n",
              "      <td>0.0</td>\n",
              "    </tr>\n",
              "    <tr>\n",
              "      <th>799</th>\n",
              "      <td>0.515625</td>\n",
              "      <td>0.666667</td>\n",
              "      <td>0.875000</td>\n",
              "      <td>0.507692</td>\n",
              "      <td>0.696970</td>\n",
              "      <td>0.555556</td>\n",
              "      <td>0.580645</td>\n",
              "      <td>0.0</td>\n",
              "    </tr>\n",
              "  </tbody>\n",
              "</table>\n",
              "<p>800 rows × 8 columns</p>\n",
              "</div>"
            ],
            "text/plain": [
              "            0         1         2         3         4         5         6    7\n",
              "0    0.156250  0.666667  0.416667  0.153846  0.545455  0.416667  0.419355  1.0\n",
              "1    0.093750  0.629630  0.416667  0.169231  0.545455  0.333333  0.290323  1.0\n",
              "2    0.171875  0.518519  0.458333  0.138462  0.393939  0.333333  0.322581  1.0\n",
              "3    0.203125  0.518519  0.125000  0.215385  0.363636  0.194444  0.451613  1.0\n",
              "4    0.171875  0.333333  0.458333  0.200000  0.363636  0.444444  0.225806  1.0\n",
              "..        ...       ...       ...       ...       ...       ...       ...  ...\n",
              "795  0.531250  0.666667  0.750000  0.492308  0.606061  0.555556  0.483871  0.0\n",
              "796  0.546875  0.592593  0.708333  0.569231  0.818182  0.722222  0.548387  0.0\n",
              "797  0.578125  0.740741  0.708333  0.538462  0.757576  0.694444  0.516129  0.0\n",
              "798  0.546875  0.814815  0.875000  0.569231  0.848485  0.611111  0.741935  0.0\n",
              "799  0.515625  0.666667  0.875000  0.507692  0.696970  0.555556  0.580645  0.0\n",
              "\n",
              "[800 rows x 8 columns]"
            ]
          },
          "metadata": {
            "tags": []
          },
          "execution_count": 4
        }
      ]
    },
    {
      "cell_type": "code",
      "metadata": {
        "id": "A5U62XZIhRBx",
        "colab": {
          "base_uri": "https://localhost:8080/",
          "height": 405
        },
        "outputId": "a0be3f0f-c23d-4781-f619-fd2c889d5bba"
      },
      "source": [
        "# Preview the processed validation data\n",
        "valid_set"
      ],
      "execution_count": null,
      "outputs": [
        {
          "output_type": "execute_result",
          "data": {
            "text/html": [
              "<div>\n",
              "<style scoped>\n",
              "    .dataframe tbody tr th:only-of-type {\n",
              "        vertical-align: middle;\n",
              "    }\n",
              "\n",
              "    .dataframe tbody tr th {\n",
              "        vertical-align: top;\n",
              "    }\n",
              "\n",
              "    .dataframe thead th {\n",
              "        text-align: right;\n",
              "    }\n",
              "</style>\n",
              "<table border=\"1\" class=\"dataframe\">\n",
              "  <thead>\n",
              "    <tr style=\"text-align: right;\">\n",
              "      <th></th>\n",
              "      <th>0</th>\n",
              "      <th>1</th>\n",
              "      <th>2</th>\n",
              "      <th>3</th>\n",
              "      <th>4</th>\n",
              "      <th>5</th>\n",
              "      <th>6</th>\n",
              "      <th>7</th>\n",
              "    </tr>\n",
              "  </thead>\n",
              "  <tbody>\n",
              "    <tr>\n",
              "      <th>0</th>\n",
              "      <td>0.169492</td>\n",
              "      <td>0.666667</td>\n",
              "      <td>0.629630</td>\n",
              "      <td>0.220339</td>\n",
              "      <td>0.555556</td>\n",
              "      <td>0.533333</td>\n",
              "      <td>0.50000</td>\n",
              "      <td>1.0</td>\n",
              "    </tr>\n",
              "    <tr>\n",
              "      <th>1</th>\n",
              "      <td>0.135593</td>\n",
              "      <td>0.708333</td>\n",
              "      <td>0.407407</td>\n",
              "      <td>0.220339</td>\n",
              "      <td>0.629630</td>\n",
              "      <td>0.500000</td>\n",
              "      <td>0.43750</td>\n",
              "      <td>1.0</td>\n",
              "    </tr>\n",
              "    <tr>\n",
              "      <th>2</th>\n",
              "      <td>0.118644</td>\n",
              "      <td>0.791667</td>\n",
              "      <td>0.592593</td>\n",
              "      <td>0.288136</td>\n",
              "      <td>0.703704</td>\n",
              "      <td>0.500000</td>\n",
              "      <td>0.43750</td>\n",
              "      <td>1.0</td>\n",
              "    </tr>\n",
              "    <tr>\n",
              "      <th>3</th>\n",
              "      <td>0.118644</td>\n",
              "      <td>0.791667</td>\n",
              "      <td>0.555556</td>\n",
              "      <td>0.237288</td>\n",
              "      <td>0.629630</td>\n",
              "      <td>0.433333</td>\n",
              "      <td>0.28125</td>\n",
              "      <td>1.0</td>\n",
              "    </tr>\n",
              "    <tr>\n",
              "      <th>4</th>\n",
              "      <td>0.067797</td>\n",
              "      <td>0.750000</td>\n",
              "      <td>0.370370</td>\n",
              "      <td>0.237288</td>\n",
              "      <td>0.629630</td>\n",
              "      <td>0.466667</td>\n",
              "      <td>0.28125</td>\n",
              "      <td>1.0</td>\n",
              "    </tr>\n",
              "    <tr>\n",
              "      <th>...</th>\n",
              "      <td>...</td>\n",
              "      <td>...</td>\n",
              "      <td>...</td>\n",
              "      <td>...</td>\n",
              "      <td>...</td>\n",
              "      <td>...</td>\n",
              "      <td>...</td>\n",
              "      <td>...</td>\n",
              "    </tr>\n",
              "    <tr>\n",
              "      <th>195</th>\n",
              "      <td>0.389831</td>\n",
              "      <td>0.416667</td>\n",
              "      <td>0.629630</td>\n",
              "      <td>0.491525</td>\n",
              "      <td>0.000000</td>\n",
              "      <td>0.300000</td>\n",
              "      <td>0.46875</td>\n",
              "      <td>0.0</td>\n",
              "    </tr>\n",
              "    <tr>\n",
              "      <th>196</th>\n",
              "      <td>0.338983</td>\n",
              "      <td>0.583333</td>\n",
              "      <td>0.666667</td>\n",
              "      <td>0.508475</td>\n",
              "      <td>0.814815</td>\n",
              "      <td>0.266667</td>\n",
              "      <td>0.59375</td>\n",
              "      <td>0.0</td>\n",
              "    </tr>\n",
              "    <tr>\n",
              "      <th>197</th>\n",
              "      <td>0.372881</td>\n",
              "      <td>0.541667</td>\n",
              "      <td>0.629630</td>\n",
              "      <td>0.474576</td>\n",
              "      <td>0.777778</td>\n",
              "      <td>0.233333</td>\n",
              "      <td>0.62500</td>\n",
              "      <td>0.0</td>\n",
              "    </tr>\n",
              "    <tr>\n",
              "      <th>198</th>\n",
              "      <td>0.406780</td>\n",
              "      <td>0.541667</td>\n",
              "      <td>0.666667</td>\n",
              "      <td>0.559322</td>\n",
              "      <td>0.740741</td>\n",
              "      <td>0.266667</td>\n",
              "      <td>0.59375</td>\n",
              "      <td>0.0</td>\n",
              "    </tr>\n",
              "    <tr>\n",
              "      <th>199</th>\n",
              "      <td>0.423729</td>\n",
              "      <td>0.500000</td>\n",
              "      <td>0.703704</td>\n",
              "      <td>0.525424</td>\n",
              "      <td>0.592593</td>\n",
              "      <td>0.233333</td>\n",
              "      <td>0.59375</td>\n",
              "      <td>0.0</td>\n",
              "    </tr>\n",
              "  </tbody>\n",
              "</table>\n",
              "<p>200 rows × 8 columns</p>\n",
              "</div>"
            ],
            "text/plain": [
              "            0         1         2         3         4         5        6    7\n",
              "0    0.169492  0.666667  0.629630  0.220339  0.555556  0.533333  0.50000  1.0\n",
              "1    0.135593  0.708333  0.407407  0.220339  0.629630  0.500000  0.43750  1.0\n",
              "2    0.118644  0.791667  0.592593  0.288136  0.703704  0.500000  0.43750  1.0\n",
              "3    0.118644  0.791667  0.555556  0.237288  0.629630  0.433333  0.28125  1.0\n",
              "4    0.067797  0.750000  0.370370  0.237288  0.629630  0.466667  0.28125  1.0\n",
              "..        ...       ...       ...       ...       ...       ...      ...  ...\n",
              "195  0.389831  0.416667  0.629630  0.491525  0.000000  0.300000  0.46875  0.0\n",
              "196  0.338983  0.583333  0.666667  0.508475  0.814815  0.266667  0.59375  0.0\n",
              "197  0.372881  0.541667  0.629630  0.474576  0.777778  0.233333  0.62500  0.0\n",
              "198  0.406780  0.541667  0.666667  0.559322  0.740741  0.266667  0.59375  0.0\n",
              "199  0.423729  0.500000  0.703704  0.525424  0.592593  0.233333  0.59375  0.0\n",
              "\n",
              "[200 rows x 8 columns]"
            ]
          },
          "metadata": {
            "tags": []
          },
          "execution_count": 5
        }
      ]
    },
    {
      "cell_type": "code",
      "metadata": {
        "id": "jlqeEDYihYLK"
      },
      "source": [
        "train_x,train_y=train_set.iloc[:,0:7],train_set.iloc[:,7]\n",
        "valid_x,valid_y=valid_set.iloc[:,0:7],valid_set.iloc[:,7]\n",
        "\n",
        "# Training data\n",
        "train_x=train_x.to_numpy()\n",
        "train_y=train_y.to_numpy()\n",
        "valid_x=valid_x.to_numpy()\n",
        "valid_y=valid_y.to_numpy()"
      ],
      "execution_count": null,
      "outputs": []
    },
    {
      "cell_type": "code",
      "metadata": {
        "colab": {
          "base_uri": "https://localhost:8080/"
        },
        "id": "vAg1L1AjZ-6W",
        "outputId": "6d9c5d62-feba-4f34-d395-8023018692d6"
      },
      "source": [
        "fake = [0 for i in range(200)]\n",
        "fake = np.array(fake)\n",
        "print(fake)\n",
        "print(valid_y)"
      ],
      "execution_count": null,
      "outputs": [
        {
          "output_type": "stream",
          "text": [
            "[0 0 0 0 0 0 0 0 0 0 0 0 0 0 0 0 0 0 0 0 0 0 0 0 0 0 0 0 0 0 0 0 0 0 0 0 0\n",
            " 0 0 0 0 0 0 0 0 0 0 0 0 0 0 0 0 0 0 0 0 0 0 0 0 0 0 0 0 0 0 0 0 0 0 0 0 0\n",
            " 0 0 0 0 0 0 0 0 0 0 0 0 0 0 0 0 0 0 0 0 0 0 0 0 0 0 0 0 0 0 0 0 0 0 0 0 0\n",
            " 0 0 0 0 0 0 0 0 0 0 0 0 0 0 0 0 0 0 0 0 0 0 0 0 0 0 0 0 0 0 0 0 0 0 0 0 0\n",
            " 0 0 0 0 0 0 0 0 0 0 0 0 0 0 0 0 0 0 0 0 0 0 0 0 0 0 0 0 0 0 0 0 0 0 0 0 0\n",
            " 0 0 0 0 0 0 0 0 0 0 0 0 0 0 0]\n",
            "[1. 1. 1. 1. 1. 1. 1. 1. 1. 1. 1. 1. 1. 1. 1. 1. 1. 1. 1. 1. 1. 1. 1. 1.\n",
            " 1. 1. 1. 1. 1. 1. 1. 1. 1. 1. 1. 1. 1. 1. 1. 1. 1. 1. 1. 1. 1. 1. 1. 1.\n",
            " 1. 1. 1. 1. 1. 1. 1. 1. 1. 1. 1. 1. 1. 1. 1. 1. 1. 1. 1. 1. 1. 1. 1. 1.\n",
            " 1. 1. 1. 1. 1. 1. 1. 1. 1. 1. 1. 1. 1. 1. 1. 1. 1. 1. 1. 1. 1. 1. 1. 1.\n",
            " 1. 1. 1. 1. 0. 0. 0. 0. 0. 0. 0. 0. 0. 0. 0. 0. 0. 0. 0. 0. 0. 0. 0. 0.\n",
            " 0. 0. 0. 0. 0. 0. 0. 0. 0. 0. 0. 0. 0. 0. 0. 0. 0. 0. 0. 0. 0. 0. 0. 0.\n",
            " 0. 0. 0. 0. 0. 0. 0. 0. 0. 0. 0. 0. 0. 0. 0. 0. 0. 0. 0. 0. 0. 0. 0. 0.\n",
            " 0. 0. 0. 0. 0. 0. 0. 0. 0. 0. 0. 0. 0. 0. 0. 0. 0. 0. 0. 0. 0. 0. 0. 0.\n",
            " 0. 0. 0. 0. 0. 0. 0. 0.]\n"
          ],
          "name": "stdout"
        }
      ]
    },
    {
      "cell_type": "markdown",
      "metadata": {
        "id": "YmMY3QTDhnro"
      },
      "source": [
        "**Question 1(a)** (10 marks)"
      ]
    },
    {
      "cell_type": "code",
      "metadata": {
        "id": "Rgm1GEzBhqDt",
        "colab": {
          "base_uri": "https://localhost:8080/"
        },
        "outputId": "a29bb803-fdec-489c-a749-c36a91c109d9"
      },
      "source": [
        "# Your codes go from here\n",
        "from sklearn.svm import SVC\n",
        "from sklearn import metrics\n",
        "\n",
        "clf = SVC(kernel='linear', C = 1)\n",
        "\n",
        "clf.fit(train_x, train_y)\n",
        "\n",
        "pred_y = clf.predict(valid_x)\n",
        "\n",
        "accuracy = metrics.accuracy_score(valid_y, pred_y)\n",
        "print(\"Accuracy:\", accuracy)\n"
      ],
      "execution_count": null,
      "outputs": [
        {
          "output_type": "stream",
          "text": [
            "Accuracy: 1.0\n"
          ],
          "name": "stdout"
        }
      ]
    },
    {
      "cell_type": "code",
      "metadata": {
        "id": "tx6OzHSw66Qx"
      },
      "source": [
        ""
      ],
      "execution_count": null,
      "outputs": []
    },
    {
      "cell_type": "markdown",
      "metadata": {
        "id": "G-KyusLXhwHX"
      },
      "source": [
        "**Question 1(b)** (5 marks)"
      ]
    },
    {
      "cell_type": "code",
      "metadata": {
        "id": "NyZJ2yyDhydB",
        "colab": {
          "base_uri": "https://localhost:8080/",
          "height": 352
        },
        "outputId": "99b7188e-b870-434f-ab2e-1a70127e0352"
      },
      "source": [
        "# Your codes go from here\n",
        "\n",
        "\n",
        "precision = metrics.precision_score(valid_y, pred_y)\n",
        "recall = metrics.recall_score(valid_y, pred_y)\n",
        "f_measure = (2*recall*precision) / (recall+precision)\n",
        "\n",
        "x = [\"Accuracy\", \"Precision\", \"Recall\", \"F-measure\"]\n",
        "y = [accuracy, precision, recall, f_measure]\n",
        "\n",
        "fig = plt.figure()\n",
        "ax = fig.add_axes([0,0,1,1])\n",
        "ax.bar(x,y)\n",
        "ax.set_title(\"Scores using different metrics\")\n",
        "ax.set_ylabel(\"Scores\")\n",
        "plt.show()\n",
        "\n"
      ],
      "execution_count": null,
      "outputs": [
        {
          "output_type": "display_data",
          "data": {
            "image/png": "[encoded data removed]",
            "text/plain": [
              "<Figure size 432x288 with 1 Axes>"
            ]
          },
          "metadata": {
            "tags": [],
            "needs_background": "light"
          }
        }
      ]
    },
    {
      "cell_type": "markdown",
      "metadata": {
        "id": "Y1YmNCpAh2JG"
      },
      "source": [
        "**Question 1(c)** (5 marks)"
      ]
    },
    {
      "cell_type": "code",
      "metadata": {
        "id": "ES2dkIlch34v",
        "colab": {
          "base_uri": "https://localhost:8080/",
          "height": 352
        },
        "outputId": "2a2f2371-38a1-43a3-cf78-028e5913d3b1"
      },
      "source": [
        "import matplotlib.pyplot as plt\n",
        "\n",
        "string_c = [\"C = 0.01\", \"C = 0.1\", \"C = 1\", \"C = 10\", \"C = 50\"]\n",
        "c = [0.01, 0.1, 1, 10, 50]\n",
        "\n",
        "l = []\n",
        "\n",
        "for i in c:\n",
        "  clf = SVC(kernel='linear', C = i)\n",
        "  clf.fit(train_x, train_y)\n",
        "  pred_y = clf.predict(valid_x)\n",
        "  accuracy = metrics.accuracy_score(valid_y, pred_y)\n",
        "  l.append(accuracy)\n",
        "\n",
        "\n",
        "\n",
        "fig = plt.figure()\n",
        "ax = fig.add_axes([0,0,1,1])\n",
        "ax.bar(string_c,l)\n",
        "ax.set_title(\"Accuracy obtained using different C's\")\n",
        "ax.set_ylabel(\"Accuracy\")\n",
        "plt.show()\n",
        "\n"
      ],
      "execution_count": null,
      "outputs": [
        {
          "output_type": "display_data",
          "data": {
            "image/png": "[encoded data removed]",
            "text/plain": [
              "<Figure size 432x288 with 1 Axes>"
            ]
          },
          "metadata": {
            "tags": [],
            "needs_background": "light"
          }
        }
      ]
    },
    {
      "cell_type": "markdown",
      "metadata": {
        "id": "NmdoZyIa1J-t"
      },
      "source": [
        "**Question 1(d)** (5 marks)"
      ]
    },
    {
      "cell_type": "code",
      "metadata": {
        "id": "60fkCHnY1N7k",
        "colab": {
          "base_uri": "https://localhost:8080/",
          "height": 715
        },
        "outputId": "ad68e22d-898f-44ad-9b6c-e87f74c6ce6e"
      },
      "source": [
        "# Your codes go from here\n",
        "\n",
        "pca = PCA(n_components =2)\n",
        "x_reduced = pca.fit_transform(train_x)\n",
        "\n",
        "\n",
        "x = x_reduced[:, 0]\n",
        "y = x_reduced[:, 1]\n",
        "\n",
        "\n",
        "svm_clf = SVC(kernel=\"poly\", C=10, gamma='scale')\n",
        "svm_clf.fit(x_reduced, train_y)\n",
        "\n",
        "\n",
        "x0s = np.linspace(-2, 2, 300)\n",
        "x1s = np.linspace(-2, 2, 300)\n",
        "x0, x1 = np.meshgrid(x0s, x1s)\n",
        "X = np.c_[x0.ravel(), x1.ravel()]\n",
        "\n",
        "Y1_pred = svm_clf.predict(X).reshape(x0.shape)\n",
        "Y1_decision = svm_clf.decision_function(X).reshape(x0.shape)\n",
        "\n",
        "# plot results...\n",
        "plt.figure(1, figsize=(18, 12))\n",
        "plt.clf()\n",
        "\n",
        "plt.contourf(x0, x1, Y1_pred, cmap=plt.cm.brg, alpha=0.2)\n",
        "plt.contourf(x0, x1, Y1_decision, cmap=plt.cm.brg, alpha=0.1)\n",
        "plt.plot(x[train_y==1], y[train_y==1], \"ro\", label = \"Room 1\")\n",
        "plt.plot(x[train_y==0], y[train_y==0], \"bo\", label = \"Room 0\")\n",
        "\n",
        "plt.title('Decision Boundary Using PCA Transformations')\n",
        "plt.legend(loc=\"upper left\", fontsize=14)\n",
        "plt.axis([-1, 1, -1, 1])\n",
        "\n",
        "\n",
        "plt.show()\n",
        "\n",
        "\n"
      ],
      "execution_count": null,
      "outputs": [
        {
          "output_type": "display_data",
          "data": {
            "image/png": "[encoded data removed]",
            "text/plain": [
              "<Figure size 1296x864 with 1 Axes>"
            ]
          },
          "metadata": {
            "tags": [],
            "needs_background": "light"
          }
        }
      ]
    },
    {
      "cell_type": "code",
      "metadata": {
        "id": "tn53V2y_qFgB",
        "colab": {
          "base_uri": "https://localhost:8080/",
          "height": 86
        },
        "outputId": "05f398fd-efc6-41fd-95fd-56471de718f8"
      },
      "source": [
        "'''\n",
        "# 4. Let us plot the decision boundaries\n",
        "W = svm_clf.coef_[0]                           # Coefficients\n",
        "b = svm_clf.intercept_[0]                      # Intercept\n",
        "\n",
        "# W1*X1 + W2*X2 + b = 0 ===> X2 = -(b + W1*X1)/W2\n",
        "x0 = np.linspace(-5, 5, 200)\n",
        "decision_boundary = -W[0]/W[1] * x0 - b/W[1]\n",
        "\n",
        "# Support Vectors\n",
        "margin = 2/W[1]\n",
        "gutter_up = decision_boundary + 0.5*margin\n",
        "gutter_down = decision_boundary - 0.5*margin\n",
        "SVS = svm_clf.support_vectors_\n",
        "\n",
        "# plot results...\n",
        "plt.figure(1, figsize=(18, 6))\n",
        "plt.clf()\n",
        "\n",
        "plt.scatter(SVS[:, 0], SVS[:, 1], s=180, facecolors='#FFAAAA')\n",
        "\n",
        "plt.plot(x0, decision_boundary, \"k-\", linewidth=1)\n",
        "plt.plot(x0, gutter_up, \"k--\", linewidth=1)\n",
        "plt.plot(x0, gutter_down, \"k--\", linewidth=1)\n",
        "\n",
        "\n",
        "plt.plot(x[train_y==1], y[train_y==1], \"bo\", label = \"Room 1\")\n",
        "plt.plot(x[train_y==0], y[train_y==0], \"yo\", label = \"Room 0\")\n",
        "plt.legend()\n",
        "plt.axis([-1, 1, -1, 1])\n",
        "plt.show()\n",
        "'''"
      ],
      "execution_count": null,
      "outputs": [
        {
          "output_type": "execute_result",
          "data": {
            "application/vnd.google.colaboratory.intrinsic+json": {
              "type": "string"
            },
            "text/plain": [
              "'\\n# 4. Let us plot the decision boundaries\\nW = svm_clf.coef_[0]                           # Coefficients\\nb = svm_clf.intercept_[0]                      # Intercept\\n\\n# W1*X1 + W2*X2 + b = 0 ===> X2 = -(b + W1*X1)/W2\\nx0 = np.linspace(-5, 5, 200)\\ndecision_boundary = -W[0]/W[1] * x0 - b/W[1]\\n\\n# Support Vectors\\nmargin = 2/W[1]\\ngutter_up = decision_boundary + 0.5*margin\\ngutter_down = decision_boundary - 0.5*margin\\nSVS = svm_clf.support_vectors_\\n\\n# plot results...\\nplt.figure(1, figsize=(18, 6))\\nplt.clf()\\n\\nplt.scatter(SVS[:, 0], SVS[:, 1], s=180, facecolors=\\'#FFAAAA\\')\\n\\nplt.plot(x0, decision_boundary, \"k-\", linewidth=1)\\nplt.plot(x0, gutter_up, \"k--\", linewidth=1)\\nplt.plot(x0, gutter_down, \"k--\", linewidth=1)\\n\\n\\nplt.plot(x[train_y==1], y[train_y==1], \"bo\", label = \"Room 1\")\\nplt.plot(x[train_y==0], y[train_y==0], \"yo\", label = \"Room 0\")\\nplt.legend()\\nplt.axis([-1, 1, -1, 1])\\nplt.show()\\n'"
            ]
          },
          "metadata": {
            "tags": []
          },
          "execution_count": 12
        }
      ]
    }
  ]
}